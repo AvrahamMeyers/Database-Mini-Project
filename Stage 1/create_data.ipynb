{
 "cells": [
  {
   "cell_type": "code",
   "execution_count": 1,
   "metadata": {},
   "outputs": [],
   "source": [
    "from functools import reduce\n",
    "import random\n",
    "import pandas as pd\n",
    "import names"
   ]
  },
  {
   "cell_type": "code",
   "execution_count": 2,
   "metadata": {},
   "outputs": [],
   "source": [
    "gate_columns = [\n",
    "    \"Gate ID\",\n",
    "    \"Terminal Name\",\n",
    "    \"Gate Number\",\n",
    "    \"Status\",\n",
    "    \"Airport ID\"\n",
    "]\n",
    "\n",
    "airport_columns = [\n",
    "    \"Airport ID\",\n",
    "    \"Name\",\n",
    "    \"City\"\n",
    "]\n",
    "\n",
    "weather_columns = [\n",
    "    \"Weather ID\",\n",
    "    \"Conditions\",\n",
    "    \"Update Time\",\n",
    "    \"Airport ID\"\n",
    "]\n",
    "\n",
    "aircraft_columns = [\n",
    "    \"Aircraft ID\",\n",
    "    \"Aircraft Type\",\n",
    "    \"Current Status\"\n",
    "]\n",
    "\n",
    "passenger_columns = [\n",
    "    \"Passenger ID\",\n",
    "    \"Name\",\n",
    "    \"Ticket Number\",\n",
    "    \"Flight Number\"\n",
    "]\n",
    "\n",
    "crew_columns = [\n",
    "    \"Crew ID\",\n",
    "    \"Crew Type\",\n",
    "    \"Member Name\",\n",
    "    \"Flight Number\"\n",
    "]\n",
    "\n",
    "flight_columns = [\n",
    "    \"Flight Number\",\n",
    "    \"Departure Time\",\n",
    "    \"Arrival Time\",\n",
    "    \"Flight Status\",\n",
    "    \"Aircraft ID\",\n",
    "    \"Departure Gate ID\",\n",
    "    \"Departure Airport ID\",\n",
    "    \"Arrival Gate ID\",\n",
    "    \"Arrival Airport ID\"\n",
    "]"
   ]
  },
  {
   "cell_type": "code",
   "execution_count": 4,
   "metadata": {},
   "outputs": [],
   "source": [
    "flights = pd.DataFrame(columns=flight_columns)"
   ]
  },
  {
   "cell_type": "code",
   "execution_count": null,
   "metadata": {},
   "outputs": [],
   "source": [
    "def generate_departure_and_arrival_time(seed: int):\n",
    "    "
   ]
  },
  {
   "cell_type": "code",
   "execution_count": null,
   "metadata": {},
   "outputs": [],
   "source": [
    "for i in range(50000):\n",
    "    "
   ]
  }
 ],
 "metadata": {
  "kernelspec": {
   "display_name": "Python 3",
   "language": "python",
   "name": "python3"
  },
  "language_info": {
   "codemirror_mode": {
    "name": "ipython",
    "version": 3
   },
   "file_extension": ".py",
   "mimetype": "text/x-python",
   "name": "python",
   "nbconvert_exporter": "python",
   "pygments_lexer": "ipython3",
   "version": "3.12.3"
  }
 },
 "nbformat": 4,
 "nbformat_minor": 2
}
