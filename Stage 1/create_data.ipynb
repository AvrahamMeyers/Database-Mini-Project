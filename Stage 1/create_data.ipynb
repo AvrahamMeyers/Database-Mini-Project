{
 "cells": [
  {
   "cell_type": "code",
   "execution_count": 2,
   "metadata": {},
   "outputs": [],
   "source": [
    "from functools import reduce\n",
    "import random\n",
    "import pandas as pd\n",
    "import names\n",
    "from datetime import datetime, timedelta"
   ]
  },
  {
   "cell_type": "code",
   "execution_count": 3,
   "metadata": {},
   "outputs": [],
   "source": [
    "gate_columns = [\n",
    "    \"Gate ID\",\n",
    "    \"Terminal Name\",\n",
    "    \"Gate Number\",\n",
    "    \"Status\",\n",
    "    \"Airport ID\"\n",
    "]\n",
    "\n",
    "airport_columns = [\n",
    "    \"Airport ID\",\n",
    "    \"Name\",\n",
    "    \"City\"\n",
    "]\n",
    "\n",
    "weather_columns = [\n",
    "    \"Weather ID\",\n",
    "    \"Conditions\",\n",
    "    \"Update Time\",\n",
    "    \"Airport ID\"\n",
    "]\n",
    "\n",
    "aircraft_columns = [\n",
    "    \"Aircraft ID\",\n",
    "    \"Aircraft Type\",\n",
    "    \"Current Status\"\n",
    "]\n",
    "\n",
    "passenger_columns = [\n",
    "    \"Passenger ID\",\n",
    "    \"Name\",\n",
    "    \"Ticket Number\",\n",
    "    \"Flight Number\"\n",
    "]\n",
    "\n",
    "crew_columns = [\n",
    "    \"Crew ID\",\n",
    "    \"Crew Type\",\n",
    "    \"Member Name\",\n",
    "    \"Flight Number\"\n",
    "]\n",
    "\n",
    "flight_columns = [\n",
    "    \"Flight Number\",\n",
    "    \"Departure Time\",\n",
    "    \"Arrival Time\",\n",
    "    \"Flight Status\",\n",
    "    \"Aircraft ID\",\n",
    "    \"Departure Gate ID\",\n",
    "    \"Departure Airport ID\",\n",
    "    \"Arrival Gate ID\",\n",
    "    \"Arrival Airport ID\"\n",
    "]\n",
    "\n",
    "\n",
    "aircraft_types = [\"Airbus A320\", \"Airbus A380\", \"Boeing 737\", \"Boeing 747\", \"Boeing 787\"]\n",
    "\n",
    "weather_conditions = [\"Clear skies\", \"Partly cloudy\", \"Light rain\", \"Snow\", \n",
    "                                \"Heavy rain\", \"Foggy\", \"Strong wind\", \"Thunderstorms with rain\", \n",
    "                                \"Thunderstorms with lightning\", \"Frost\", \"Icy runway\"]\n",
    "\n"
   ]
  },
  {
   "cell_type": "code",
   "execution_count": 4,
   "metadata": {},
   "outputs": [],
   "source": [
    "flights = pd.DataFrame(columns=flight_columns)"
   ]
  },
  {
   "cell_type": "code",
   "execution_count": 5,
   "metadata": {},
   "outputs": [
    {
     "name": "stdout",
     "output_type": "stream",
     "text": [
      "Datetime 1: 2023-08-02 03:01:47\n",
      "Datetime 2: 2023-08-03 07:14:08\n"
     ]
    }
   ],
   "source": [
    "def generate_random_datetimes(seed=None):\n",
    "    if seed is not None:\n",
    "        random.seed(seed)\n",
    "    \n",
    "    # Generate a random date within a given range\n",
    "    start_date = datetime(2020, 1, 1)  # Start date\n",
    "    end_date = datetime(2023, 12, 31)  # End date\n",
    "    delta = end_date - start_date\n",
    "    random_days = random.randint(0, delta.days)\n",
    "    \n",
    "    # First random datetime\n",
    "    random_date1 = start_date + timedelta(days=random_days)\n",
    "    random_time1 = timedelta(hours=random.randint(0, 23), minutes=random.randint(0, 59), seconds=random.randint(0, 59))\n",
    "    datetime1 = datetime.combine(random_date1, (datetime.min + random_time1).time())\n",
    "    \n",
    "    # Decide if the second datetime will be on the same day or the next day\n",
    "    same_day = random.choice([True, False])\n",
    "    \n",
    "    if same_day:\n",
    "        # Second datetime on the same day\n",
    "        random_time2 = timedelta(hours=random.randint(0, 23), minutes=random.randint(0, 59), seconds=random.randint(0, 59))\n",
    "        datetime2 = datetime.combine(random_date1, (datetime.min + random_time2).time())\n",
    "    else:\n",
    "        # Second datetime on the next day\n",
    "        random_date2 = random_date1 + timedelta(days=1)\n",
    "        random_time2 = timedelta(hours=random.randint(0, 23), minutes=random.randint(0, 59), seconds=random.randint(0, 59))\n",
    "        datetime2 = datetime.combine(random_date2, (datetime.min + random_time2).time())\n",
    "    \n",
    "    # Ensure the datetime2 is after datetime1 if they are on the same day\n",
    "    if datetime2 < datetime1 and same_day:\n",
    "        datetime1, datetime2 = datetime2, datetime1\n",
    "\n",
    "    return datetime1, datetime2\n",
    "\n",
    "# Example usage with a seed:\n",
    "seed_value = 42\n",
    "dt1, dt2 = generate_random_datetimes(seed=seed_value)\n",
    "print(\"Datetime 1:\", dt1)\n",
    "print(\"Datetime 2:\", dt2)\n",
    "\n",
    "    "
   ]
  },
  {
   "cell_type": "code",
   "execution_count": null,
   "metadata": {},
   "outputs": [],
   "source": [
    "for i in range(50000):\n",
    "    "
   ]
  }
 ],
 "metadata": {
  "kernelspec": {
   "display_name": "Python 3",
   "language": "python",
   "name": "python3"
  },
  "language_info": {
   "codemirror_mode": {
    "name": "ipython",
    "version": 3
   },
   "file_extension": ".py",
   "mimetype": "text/x-python",
   "name": "python",
   "nbconvert_exporter": "python",
   "pygments_lexer": "ipython3",
   "version": "3.12.3"
  }
 },
 "nbformat": 4,
 "nbformat_minor": 2
}
